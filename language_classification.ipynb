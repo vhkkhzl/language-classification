{
 "cells": [
  {
   "cell_type": "markdown",
   "id": "8d3cc2e4",
   "metadata": {},
   "source": [
    "此模型是在 Google colab，即 Ubuntu 22.04.4 LTS 環境下訓練。\n",
    "\n",
    "在 windows 環境下可能無法執行部分命令。"
   ]
  },
  {
   "cell_type": "code",
   "execution_count": null,
   "id": "2567480f",
   "metadata": {},
   "outputs": [],
   "source": [
    "!git clone "
   ]
  },
  {
   "cell_type": "code",
   "execution_count": null,
   "id": "6b5d4df6",
   "metadata": {},
   "outputs": [],
   "source": [
    "!nvidia-smi"
   ]
  },
  {
   "cell_type": "code",
   "execution_count": 1,
   "id": "f9e8d291",
   "metadata": {},
   "outputs": [
    {
     "name": "stdout",
     "output_type": "stream",
     "text": [
      "d:\\DL_Tetris\n"
     ]
    }
   ],
   "source": [
    "!pwd"
   ]
  },
  {
   "cell_type": "markdown",
   "id": "fca6d537",
   "metadata": {},
   "source": [
    "安裝 python 模組"
   ]
  },
  {
   "cell_type": "code",
   "execution_count": null,
   "id": "3b137570",
   "metadata": {},
   "outputs": [
    {
     "name": "stderr",
     "output_type": "stream",
     "text": [
      "ERROR: Could not open requirements file: [Errno 2] No such file or directory: 'requirements.txt'\n"
     ]
    }
   ],
   "source": [
    "!pip install -r /content/language-classification/requirements.txt"
   ]
  },
  {
   "cell_type": "markdown",
   "id": "e16626b0",
   "metadata": {},
   "source": [
    "確認 torch 是否能使用 CUDA"
   ]
  },
  {
   "cell_type": "code",
   "execution_count": null,
   "id": "275cf250",
   "metadata": {},
   "outputs": [],
   "source": [
    "import torch\n",
    "if torch.cuda.is_available():\n",
    "    print('CUDA is available.')\n",
    "    print('Device count:', torch.cuda.device_count())\n",
    "    print('Current device:', torch.cuda.current_device())\n",
    "    print('Device name:', torch.cuda.get_device_name(torch.cuda.current_device()))\n",
    "else:\n",
    "    print('CUDA is NOT available.')"
   ]
  }
 ],
 "metadata": {
  "kernelspec": {
   "display_name": "dl_tetris",
   "language": "python",
   "name": "python3"
  },
  "language_info": {
   "codemirror_mode": {
    "name": "ipython",
    "version": 3
   },
   "file_extension": ".py",
   "mimetype": "text/x-python",
   "name": "python",
   "nbconvert_exporter": "python",
   "pygments_lexer": "ipython3",
   "version": "3.10.16"
  }
 },
 "nbformat": 4,
 "nbformat_minor": 5
}
